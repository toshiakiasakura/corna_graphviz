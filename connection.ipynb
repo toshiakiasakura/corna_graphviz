{
 "cells": [
  {
   "cell_type": "markdown",
   "metadata": {},
   "source": [
    "# connection\n",
    "- 学部・大学院・センター等(学部)  <br>\n",
    "https://www.hokudai.ac.jp/introduction/dept/ <br> "
   ]
  },
  {
   "cell_type": "code",
   "execution_count": 3,
   "metadata": {},
   "outputs": [],
   "source": [
    "from graphviz import Digraph"
   ]
  },
  {
   "cell_type": "markdown",
   "metadata": {},
   "source": [
    "# Sample"
   ]
  },
  {
   "cell_type": "code",
   "execution_count": 24,
   "metadata": {},
   "outputs": [
    {
     "data": {
      "text/plain": [
       "'pic/round_table.gv.pdf'"
      ]
     },
     "execution_count": 24,
     "metadata": {},
     "output_type": "execute_result"
    }
   ],
   "source": [
    "dot = Digraph( comment = \"The Round Table\",name=\"hello world\")\n",
    "dot.node(\"A\")\n",
    "dot.node(\"A\")\n",
    "dot.node(\"B\",\"Sir Bedevere the Wise\")\n",
    "dot.node(\"L\",\"Sir Lancelot the Brave\")\n",
    "\n",
    "dot.edges([\"AB\",\"AL\"])\n",
    "dot.edge(\"B\",\"L\",contarint=\"false\")\n",
    "dot.render(\"pic/round_table.gv\",view=True)\n",
    "\n",
    "\n"
   ]
  },
  {
   "cell_type": "markdown",
   "metadata": {},
   "source": [
    "# structure"
   ]
  },
  {
   "cell_type": "code",
   "execution_count": 171,
   "metadata": {},
   "outputs": [],
   "source": [
    "def setAllNodes(dot,v):\n",
    "    if isinstance(v,dict):\n",
    "        for k in v.keys():\n",
    "            dot.node(k)\n",
    "            setAllNodes(dot,v[k])\n",
    "    elif isinstance(v,list):\n",
    "        for vv in v:\n",
    "            if isinstance(vv,dict):\n",
    "                setAllNodes(dot,vv)\n",
    "            elif isinstance(vv,str):\n",
    "                dot.node(vv)\n",
    "            else:\n",
    "                raise Exception(\"exception1\")\n",
    "    else:\n",
    "        raise Exception(\"exception2\")\n",
    "            \n",
    "            \n",
    "def setKeyValueEdge(dot,dic_):\n",
    "    for k in dic_.keys():\n",
    "        v = dic_[k]\n",
    "        if isinstance(v,dict):\n",
    "            for vk in v.keys():\n",
    "                dot.edge(k,vk)\n",
    "            setKeyValueEdge(dot,v)\n",
    "        elif isinstance(v,list):\n",
    "            for vv in v:\n",
    "                if isinstance(vv,dict):\n",
    "                    for vvk in vv.keys():\n",
    "                        dot.edge(k,vvk)\n",
    "                    setKeyValueEdge(dot,vv)\n",
    "                elif isinstance(vv,str):\n",
    "                    dot.edge(k,vv)\n",
    "                else:\n",
    "                    raise Exception(\"exception1\")\n",
    "        elif isinstance(v,str):\n",
    "            dot.edge(k,v)\n",
    "        else:\n",
    "            raise Exception(\"exception2\")"
   ]
  },
  {
   "cell_type": "code",
   "execution_count": 153,
   "metadata": {},
   "outputs": [],
   "source": [
    "faculty = {\"北大\":[\"文学部\",\"教育学部\",\"法学部\",\n",
    "       \"経済学部\",\"理学部\",\"医学部\",\n",
    "       \"歯学部\",\"薬学部\",\"工学部\",\"農学部\",\n",
    "       \"獣医学部\",\"水産学部\"]}\n",
    "\n",
    "department = {\"文学部\":[\"哲学・文化学コース\",\"歴史学・人類学コース\",\"言語・文学コース\",\"人間科学コース\"],\n",
    "             \"医学部\":[\"医学科\",\"保健学科\"],\n",
    "             \"理学部\":[\"数学科\",\"物理学科\",\"科学科\",\"生物学科\",\"地球惑星科学科\"],\n",
    "             \"工学部\":[\"応用理工系学科\",\"情報エレクトロニクス学科\",\"機械知能工学科\",\"環境社会工学科\"],\n",
    "             \"農学部\":[\"生物資源化学科\",\"応用生命科学科\",\"生物機能化学科\",\n",
    "                    \"森林化学科\",\"畜産化学科\",\"生物環境工学科\",\"農業経済学科\"],\n",
    "             \"水産学部\":[\"海洋生物科学科\",\"海洋資源科学科\",\"増殖生命科学科\",\"資源機能科学科\"]\n",
    "            }\n",
    "classes = [i for i in range(1,54)]\n",
    "year6 = [f\"{i}年\" for i in range(1,7)]\n",
    "year4 = [f\"{i}年\" for i in range(1,5)]"
   ]
  },
  {
   "cell_type": "markdown",
   "metadata": {},
   "source": [
    "layout options are circo, dot, fdp, neato, osage, patchwork, sfdp, twopi  <br>\n",
    "dot, fdp, twopi is good"
   ]
  },
  {
   "cell_type": "markdown",
   "metadata": {},
   "source": [
    "# List 北海道大学　学部学科"
   ]
  },
  {
   "cell_type": "code",
   "execution_count": 158,
   "metadata": {},
   "outputs": [],
   "source": [
    "engine = [\"circo\",\"dot\",\"fdp\",\"neato\",\"osage\",\"patchwork\",\"twopi\"] # ,\"sfdp\"\n",
    "for eng in engine:\n",
    "    dot = Digraph( engine=eng) \n",
    "    # node part\n",
    "    setAllNodes(dot,faculty)\n",
    "    setAllNodes(dot,department)\n",
    "    setKeyValueEdge(dot,faculty)\n",
    "    setKeyValueEdge(dot,department)\n",
    "\n",
    "    dot.attr(overlap=\"false\")\n",
    "    if eng==\"dot\":\n",
    "        view=True\n",
    "    else:\n",
    "        view=False\n",
    "    dot.render(f\"pic_hokudai/hokudai_{eng}.gv\",view=view)"
   ]
  },
  {
   "cell_type": "code",
   "execution_count": 144,
   "metadata": {},
   "outputs": [],
   "source": [
    "# node part\n",
    "for d in department.keys():\n",
    "    dot = Digraph( comment = \"The Round Table\",name=\"hello world\",engine=\"dot\") \n",
    "    setAllNodes(dot,department[d])\n",
    "    setKeyValueEdge(dot,{d:department[d]})\n",
    "\n",
    "    dot.attr(overlap=\"false\")\n",
    "    dot.render(f\"pic_faculty/{d}.gv\",view=False)"
   ]
  },
  {
   "cell_type": "markdown",
   "metadata": {},
   "source": [
    "# 学年と学科"
   ]
  },
  {
   "cell_type": "code",
   "execution_count": 177,
   "metadata": {},
   "outputs": [],
   "source": [
    "\n",
    "engine = [\"circo\",\"dot\",\"fdp\",\"neato\",\"osage\",\"patchwork\",\"twopi\"] # ,\"sfdp\"\n",
    "for eng in engine:\n",
    "    dot = Digraph( engine=eng) \n",
    "    key = \"農学部\"\n",
    "    dep = department[key]\n",
    "    dot.node(key)\n",
    "    setAllNodes(dot,year4)\n",
    "    dic_ = {}\n",
    "    for y in year4:\n",
    "        if y == \"1年\":\n",
    "            dic_[y] = \"classes16-53\"\n",
    "        else:\n",
    "            dic_[y] = dep\n",
    "    dicW = {key:dic_}\n",
    "    setKeyValueEdge(dot,dicW)\n",
    "\n",
    "    dot.attr(overlap=\"false\")\n",
    "    dot.render(f\"pic_engine/{key}_{eng}.gv\",view=False)"
   ]
  },
  {
   "cell_type": "markdown",
   "metadata": {},
   "source": [
    "# 学年 ,学科全部バラし"
   ]
  },
  {
   "cell_type": "code",
   "execution_count": 185,
   "metadata": {},
   "outputs": [],
   "source": [
    "\n",
    "for key in department.keys():\n",
    "    dot = Digraph( engine=\"dot\") \n",
    "    dep = department[key]\n",
    "    dot.node(key)\n",
    "    if key in [\"医学部\",\"獣医学部\",\"歯学部\",\"薬学部\"]:\n",
    "        years = year6\n",
    "    else:\n",
    "        years = year4\n",
    "    setAllNodes(dot,years)\n",
    "    dic_ = {}\n",
    "    for y in years:\n",
    "        if y == \"1年\":\n",
    "            dic_[y] = \"classes16-53\"\n",
    "        else:\n",
    "            dic_[y] = [f\"{d}_{y}\" for d in dep]\n",
    "    dicW = {key:dic_}\n",
    "    setKeyValueEdge(dot,dicW)\n",
    "\n",
    "    dot.attr(overlap=\"false\")\n",
    "    dot.render(f\"pic_year_specific/{key}_{eng}.gv\",view=False)"
   ]
  }
 ],
 "metadata": {
  "kernelspec": {
   "display_name": "Python 3",
   "language": "python",
   "name": "python3"
  },
  "language_info": {
   "codemirror_mode": {
    "name": "ipython",
    "version": 3
   },
   "file_extension": ".py",
   "mimetype": "text/x-python",
   "name": "python",
   "nbconvert_exporter": "python",
   "pygments_lexer": "ipython3",
   "version": "3.7.2"
  },
  "varInspector": {
   "cols": {
    "lenName": 16,
    "lenType": 16,
    "lenVar": 40
   },
   "kernels_config": {
    "python": {
     "delete_cmd_postfix": "",
     "delete_cmd_prefix": "del ",
     "library": "var_list.py",
     "varRefreshCmd": "print(var_dic_list())"
    },
    "r": {
     "delete_cmd_postfix": ") ",
     "delete_cmd_prefix": "rm(",
     "library": "var_list.r",
     "varRefreshCmd": "cat(var_dic_list()) "
    }
   },
   "types_to_exclude": [
    "module",
    "function",
    "builtin_function_or_method",
    "instance",
    "_Feature"
   ],
   "window_display": false
  }
 },
 "nbformat": 4,
 "nbformat_minor": 2
}
